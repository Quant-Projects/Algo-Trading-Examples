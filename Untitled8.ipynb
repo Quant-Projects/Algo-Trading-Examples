{
  "nbformat": 4,
  "nbformat_minor": 0,
  "metadata": {
    "colab": {
      "name": "Untitled8.ipynb",
      "version": "0.3.2",
      "provenance": [],
      "collapsed_sections": [],
      "include_colab_link": true
    },
    "kernelspec": {
      "name": "python3",
      "display_name": "Python 3"
    }
  },
  "cells": [
    {
      "cell_type": "markdown",
      "metadata": {
        "id": "view-in-github",
        "colab_type": "text"
      },
      "source": [
        "<a href=\"https://colab.research.google.com/github/Quant-Projects/Algo-Trading-Examples/blob/master/Untitled8.ipynb\" target=\"_parent\"><img src=\"https://colab.research.google.com/assets/colab-badge.svg\" alt=\"Open In Colab\"/></a>"
      ]
    },
    {
      "metadata": {
        "id": "LQDYYiEnNaea",
        "colab_type": "code",
        "colab": {}
      },
      "cell_type": "code",
      "source": [
        "import pandas as pd\n",
        "import numpy as np\n",
        "import tensorflow as tf"
      ],
      "execution_count": 0,
      "outputs": []
    },
    {
      "metadata": {
        "id": "c_1o24BKNmpi",
        "colab_type": "code",
        "colab": {}
      },
      "cell_type": "code",
      "source": [
        "train = pd.read_csv(\"train.csv\")"
      ],
      "execution_count": 0,
      "outputs": []
    },
    {
      "metadata": {
        "id": "0h7utVSMQSqP",
        "colab_type": "text"
      },
      "cell_type": "markdown",
      "source": [
        "# Exploratory Phase"
      ]
    },
    {
      "metadata": {
        "id": "HSz86VY3NpmS",
        "colab_type": "text"
      },
      "cell_type": "markdown",
      "source": [
        "Not that we have imported our training data, lets start with the exploratory phase.  We are first going to view the data, statistics of the data, and find and replace any missing values."
      ]
    },
    {
      "metadata": {
        "id": "-q3ltgnaN2iV",
        "colab_type": "code",
        "outputId": "8eefb409-cec6-4c8f-b771-738b5b700ad0",
        "colab": {
          "base_uri": "https://localhost:8080/",
          "height": 204
        }
      },
      "cell_type": "code",
      "source": [
        "train.head()"
      ],
      "execution_count": 115,
      "outputs": [
        {
          "output_type": "execute_result",
          "data": {
            "text/html": [
              "<div>\n",
              "<style scoped>\n",
              "    .dataframe tbody tr th:only-of-type {\n",
              "        vertical-align: middle;\n",
              "    }\n",
              "\n",
              "    .dataframe tbody tr th {\n",
              "        vertical-align: top;\n",
              "    }\n",
              "\n",
              "    .dataframe thead th {\n",
              "        text-align: right;\n",
              "    }\n",
              "</style>\n",
              "<table border=\"1\" class=\"dataframe\">\n",
              "  <thead>\n",
              "    <tr style=\"text-align: right;\">\n",
              "      <th></th>\n",
              "      <th>PassengerId</th>\n",
              "      <th>Survived</th>\n",
              "      <th>Pclass</th>\n",
              "      <th>Name</th>\n",
              "      <th>Sex</th>\n",
              "      <th>Age</th>\n",
              "      <th>SibSp</th>\n",
              "      <th>Parch</th>\n",
              "      <th>Ticket</th>\n",
              "      <th>Fare</th>\n",
              "      <th>Cabin</th>\n",
              "      <th>Embarked</th>\n",
              "    </tr>\n",
              "  </thead>\n",
              "  <tbody>\n",
              "    <tr>\n",
              "      <th>0</th>\n",
              "      <td>1</td>\n",
              "      <td>0</td>\n",
              "      <td>3</td>\n",
              "      <td>Braund, Mr. Owen Harris</td>\n",
              "      <td>male</td>\n",
              "      <td>22.0</td>\n",
              "      <td>1</td>\n",
              "      <td>0</td>\n",
              "      <td>A/5 21171</td>\n",
              "      <td>7.2500</td>\n",
              "      <td>NaN</td>\n",
              "      <td>S</td>\n",
              "    </tr>\n",
              "    <tr>\n",
              "      <th>1</th>\n",
              "      <td>2</td>\n",
              "      <td>1</td>\n",
              "      <td>1</td>\n",
              "      <td>Cumings, Mrs. John Bradley (Florence Briggs Th...</td>\n",
              "      <td>female</td>\n",
              "      <td>38.0</td>\n",
              "      <td>1</td>\n",
              "      <td>0</td>\n",
              "      <td>PC 17599</td>\n",
              "      <td>71.2833</td>\n",
              "      <td>C85</td>\n",
              "      <td>C</td>\n",
              "    </tr>\n",
              "    <tr>\n",
              "      <th>2</th>\n",
              "      <td>3</td>\n",
              "      <td>1</td>\n",
              "      <td>3</td>\n",
              "      <td>Heikkinen, Miss. Laina</td>\n",
              "      <td>female</td>\n",
              "      <td>26.0</td>\n",
              "      <td>0</td>\n",
              "      <td>0</td>\n",
              "      <td>STON/O2. 3101282</td>\n",
              "      <td>7.9250</td>\n",
              "      <td>NaN</td>\n",
              "      <td>S</td>\n",
              "    </tr>\n",
              "    <tr>\n",
              "      <th>3</th>\n",
              "      <td>4</td>\n",
              "      <td>1</td>\n",
              "      <td>1</td>\n",
              "      <td>Futrelle, Mrs. Jacques Heath (Lily May Peel)</td>\n",
              "      <td>female</td>\n",
              "      <td>35.0</td>\n",
              "      <td>1</td>\n",
              "      <td>0</td>\n",
              "      <td>113803</td>\n",
              "      <td>53.1000</td>\n",
              "      <td>C123</td>\n",
              "      <td>S</td>\n",
              "    </tr>\n",
              "    <tr>\n",
              "      <th>4</th>\n",
              "      <td>5</td>\n",
              "      <td>0</td>\n",
              "      <td>3</td>\n",
              "      <td>Allen, Mr. William Henry</td>\n",
              "      <td>male</td>\n",
              "      <td>35.0</td>\n",
              "      <td>0</td>\n",
              "      <td>0</td>\n",
              "      <td>373450</td>\n",
              "      <td>8.0500</td>\n",
              "      <td>NaN</td>\n",
              "      <td>S</td>\n",
              "    </tr>\n",
              "  </tbody>\n",
              "</table>\n",
              "</div>"
            ],
            "text/plain": [
              "   PassengerId  Survived  Pclass  \\\n",
              "0            1         0       3   \n",
              "1            2         1       1   \n",
              "2            3         1       3   \n",
              "3            4         1       1   \n",
              "4            5         0       3   \n",
              "\n",
              "                                                Name     Sex   Age  SibSp  \\\n",
              "0                            Braund, Mr. Owen Harris    male  22.0      1   \n",
              "1  Cumings, Mrs. John Bradley (Florence Briggs Th...  female  38.0      1   \n",
              "2                             Heikkinen, Miss. Laina  female  26.0      0   \n",
              "3       Futrelle, Mrs. Jacques Heath (Lily May Peel)  female  35.0      1   \n",
              "4                           Allen, Mr. William Henry    male  35.0      0   \n",
              "\n",
              "   Parch            Ticket     Fare Cabin Embarked  \n",
              "0      0         A/5 21171   7.2500   NaN        S  \n",
              "1      0          PC 17599  71.2833   C85        C  \n",
              "2      0  STON/O2. 3101282   7.9250   NaN        S  \n",
              "3      0            113803  53.1000  C123        S  \n",
              "4      0            373450   8.0500   NaN        S  "
            ]
          },
          "metadata": {
            "tags": []
          },
          "execution_count": 115
        }
      ]
    },
    {
      "metadata": {
        "id": "SiZ6vZ0iN5HA",
        "colab_type": "text"
      },
      "cell_type": "markdown",
      "source": [
        "Just looking at our data, there are a few columns that we don't need.  For starters, we will want to get rid of the IDs.  We will also want to get rid of the cabin, as well the ticket number.  And just for this tutorial, we are also going to get rid of the names of the passengers too (if you want a challenge, you can use feature engineering to create new features from the deleted columns)."
      ]
    },
    {
      "metadata": {
        "id": "jRsaZLMxOikx",
        "colab_type": "code",
        "colab": {}
      },
      "cell_type": "code",
      "source": [
        "train.drop(['PassengerId', 'Name', 'Ticket', 'Cabin'], axis=1, inplace=True)"
      ],
      "execution_count": 0,
      "outputs": []
    },
    {
      "metadata": {
        "id": "SE7zG_xOOpCn",
        "colab_type": "text"
      },
      "cell_type": "markdown",
      "source": [
        "Now that we have only the data that we need, we should look at the data types of the remaining columns.\n",
        "\n",
        "If the dtype of a column is an object or a string, then we will want to convert that the something machine learning readable.  For this example, we are going to convert them to dummy variables using \n",
        "\n",
        "```\n",
        "pd.get_dummies(df)\n",
        "```\n",
        "\n"
      ]
    },
    {
      "metadata": {
        "id": "wDhl0dG1PBnm",
        "colab_type": "code",
        "colab": {}
      },
      "cell_type": "code",
      "source": [
        "train['Sex'] = pd.get_dummies(train['Sex'])\n",
        "train['Embarked'] = pd.get_dummies(train['Embarked'])"
      ],
      "execution_count": 0,
      "outputs": []
    },
    {
      "metadata": {
        "id": "mnRWNZD1PIQY",
        "colab_type": "code",
        "outputId": "d0cf0672-b54e-4589-e9c2-6ee0e28a2886",
        "colab": {
          "base_uri": "https://localhost:8080/",
          "height": 204
        }
      },
      "cell_type": "code",
      "source": [
        "train.head()"
      ],
      "execution_count": 118,
      "outputs": [
        {
          "output_type": "execute_result",
          "data": {
            "text/html": [
              "<div>\n",
              "<style scoped>\n",
              "    .dataframe tbody tr th:only-of-type {\n",
              "        vertical-align: middle;\n",
              "    }\n",
              "\n",
              "    .dataframe tbody tr th {\n",
              "        vertical-align: top;\n",
              "    }\n",
              "\n",
              "    .dataframe thead th {\n",
              "        text-align: right;\n",
              "    }\n",
              "</style>\n",
              "<table border=\"1\" class=\"dataframe\">\n",
              "  <thead>\n",
              "    <tr style=\"text-align: right;\">\n",
              "      <th></th>\n",
              "      <th>Survived</th>\n",
              "      <th>Pclass</th>\n",
              "      <th>Sex</th>\n",
              "      <th>Age</th>\n",
              "      <th>SibSp</th>\n",
              "      <th>Parch</th>\n",
              "      <th>Fare</th>\n",
              "      <th>Embarked</th>\n",
              "    </tr>\n",
              "  </thead>\n",
              "  <tbody>\n",
              "    <tr>\n",
              "      <th>0</th>\n",
              "      <td>0</td>\n",
              "      <td>3</td>\n",
              "      <td>0</td>\n",
              "      <td>22.0</td>\n",
              "      <td>1</td>\n",
              "      <td>0</td>\n",
              "      <td>7.2500</td>\n",
              "      <td>0</td>\n",
              "    </tr>\n",
              "    <tr>\n",
              "      <th>1</th>\n",
              "      <td>1</td>\n",
              "      <td>1</td>\n",
              "      <td>1</td>\n",
              "      <td>38.0</td>\n",
              "      <td>1</td>\n",
              "      <td>0</td>\n",
              "      <td>71.2833</td>\n",
              "      <td>1</td>\n",
              "    </tr>\n",
              "    <tr>\n",
              "      <th>2</th>\n",
              "      <td>1</td>\n",
              "      <td>3</td>\n",
              "      <td>1</td>\n",
              "      <td>26.0</td>\n",
              "      <td>0</td>\n",
              "      <td>0</td>\n",
              "      <td>7.9250</td>\n",
              "      <td>0</td>\n",
              "    </tr>\n",
              "    <tr>\n",
              "      <th>3</th>\n",
              "      <td>1</td>\n",
              "      <td>1</td>\n",
              "      <td>1</td>\n",
              "      <td>35.0</td>\n",
              "      <td>1</td>\n",
              "      <td>0</td>\n",
              "      <td>53.1000</td>\n",
              "      <td>0</td>\n",
              "    </tr>\n",
              "    <tr>\n",
              "      <th>4</th>\n",
              "      <td>0</td>\n",
              "      <td>3</td>\n",
              "      <td>0</td>\n",
              "      <td>35.0</td>\n",
              "      <td>0</td>\n",
              "      <td>0</td>\n",
              "      <td>8.0500</td>\n",
              "      <td>0</td>\n",
              "    </tr>\n",
              "  </tbody>\n",
              "</table>\n",
              "</div>"
            ],
            "text/plain": [
              "   Survived  Pclass  Sex   Age  SibSp  Parch     Fare  Embarked\n",
              "0         0       3    0  22.0      1      0   7.2500         0\n",
              "1         1       1    1  38.0      1      0  71.2833         1\n",
              "2         1       3    1  26.0      0      0   7.9250         0\n",
              "3         1       1    1  35.0      1      0  53.1000         0\n",
              "4         0       3    0  35.0      0      0   8.0500         0"
            ]
          },
          "metadata": {
            "tags": []
          },
          "execution_count": 118
        }
      ]
    },
    {
      "metadata": {
        "id": "-vsWkdR7PLig",
        "colab_type": "text"
      },
      "cell_type": "markdown",
      "source": [
        "Ok, now that everything appears to be ML readable, then get some of the stats using ```df.describe()``` and ```df.info()```.\n",
        "\n"
      ]
    },
    {
      "metadata": {
        "id": "scwayIdOPeV3",
        "colab_type": "code",
        "outputId": "9aa5c2f3-94b5-4b6f-8b70-1d4d472b71c0",
        "colab": {
          "base_uri": "https://localhost:8080/",
          "height": 297
        }
      },
      "cell_type": "code",
      "source": [
        "train.describe()"
      ],
      "execution_count": 119,
      "outputs": [
        {
          "output_type": "execute_result",
          "data": {
            "text/html": [
              "<div>\n",
              "<style scoped>\n",
              "    .dataframe tbody tr th:only-of-type {\n",
              "        vertical-align: middle;\n",
              "    }\n",
              "\n",
              "    .dataframe tbody tr th {\n",
              "        vertical-align: top;\n",
              "    }\n",
              "\n",
              "    .dataframe thead th {\n",
              "        text-align: right;\n",
              "    }\n",
              "</style>\n",
              "<table border=\"1\" class=\"dataframe\">\n",
              "  <thead>\n",
              "    <tr style=\"text-align: right;\">\n",
              "      <th></th>\n",
              "      <th>Survived</th>\n",
              "      <th>Pclass</th>\n",
              "      <th>Sex</th>\n",
              "      <th>Age</th>\n",
              "      <th>SibSp</th>\n",
              "      <th>Parch</th>\n",
              "      <th>Fare</th>\n",
              "      <th>Embarked</th>\n",
              "    </tr>\n",
              "  </thead>\n",
              "  <tbody>\n",
              "    <tr>\n",
              "      <th>count</th>\n",
              "      <td>891.000000</td>\n",
              "      <td>891.000000</td>\n",
              "      <td>891.000000</td>\n",
              "      <td>714.000000</td>\n",
              "      <td>891.000000</td>\n",
              "      <td>891.000000</td>\n",
              "      <td>891.000000</td>\n",
              "      <td>891.000000</td>\n",
              "    </tr>\n",
              "    <tr>\n",
              "      <th>mean</th>\n",
              "      <td>0.383838</td>\n",
              "      <td>2.308642</td>\n",
              "      <td>0.352413</td>\n",
              "      <td>29.699118</td>\n",
              "      <td>0.523008</td>\n",
              "      <td>0.381594</td>\n",
              "      <td>32.204208</td>\n",
              "      <td>0.188552</td>\n",
              "    </tr>\n",
              "    <tr>\n",
              "      <th>std</th>\n",
              "      <td>0.486592</td>\n",
              "      <td>0.836071</td>\n",
              "      <td>0.477990</td>\n",
              "      <td>14.526497</td>\n",
              "      <td>1.102743</td>\n",
              "      <td>0.806057</td>\n",
              "      <td>49.693429</td>\n",
              "      <td>0.391372</td>\n",
              "    </tr>\n",
              "    <tr>\n",
              "      <th>min</th>\n",
              "      <td>0.000000</td>\n",
              "      <td>1.000000</td>\n",
              "      <td>0.000000</td>\n",
              "      <td>0.420000</td>\n",
              "      <td>0.000000</td>\n",
              "      <td>0.000000</td>\n",
              "      <td>0.000000</td>\n",
              "      <td>0.000000</td>\n",
              "    </tr>\n",
              "    <tr>\n",
              "      <th>25%</th>\n",
              "      <td>0.000000</td>\n",
              "      <td>2.000000</td>\n",
              "      <td>0.000000</td>\n",
              "      <td>20.125000</td>\n",
              "      <td>0.000000</td>\n",
              "      <td>0.000000</td>\n",
              "      <td>7.910400</td>\n",
              "      <td>0.000000</td>\n",
              "    </tr>\n",
              "    <tr>\n",
              "      <th>50%</th>\n",
              "      <td>0.000000</td>\n",
              "      <td>3.000000</td>\n",
              "      <td>0.000000</td>\n",
              "      <td>28.000000</td>\n",
              "      <td>0.000000</td>\n",
              "      <td>0.000000</td>\n",
              "      <td>14.454200</td>\n",
              "      <td>0.000000</td>\n",
              "    </tr>\n",
              "    <tr>\n",
              "      <th>75%</th>\n",
              "      <td>1.000000</td>\n",
              "      <td>3.000000</td>\n",
              "      <td>1.000000</td>\n",
              "      <td>38.000000</td>\n",
              "      <td>1.000000</td>\n",
              "      <td>0.000000</td>\n",
              "      <td>31.000000</td>\n",
              "      <td>0.000000</td>\n",
              "    </tr>\n",
              "    <tr>\n",
              "      <th>max</th>\n",
              "      <td>1.000000</td>\n",
              "      <td>3.000000</td>\n",
              "      <td>1.000000</td>\n",
              "      <td>80.000000</td>\n",
              "      <td>8.000000</td>\n",
              "      <td>6.000000</td>\n",
              "      <td>512.329200</td>\n",
              "      <td>1.000000</td>\n",
              "    </tr>\n",
              "  </tbody>\n",
              "</table>\n",
              "</div>"
            ],
            "text/plain": [
              "         Survived      Pclass         Sex         Age       SibSp       Parch  \\\n",
              "count  891.000000  891.000000  891.000000  714.000000  891.000000  891.000000   \n",
              "mean     0.383838    2.308642    0.352413   29.699118    0.523008    0.381594   \n",
              "std      0.486592    0.836071    0.477990   14.526497    1.102743    0.806057   \n",
              "min      0.000000    1.000000    0.000000    0.420000    0.000000    0.000000   \n",
              "25%      0.000000    2.000000    0.000000   20.125000    0.000000    0.000000   \n",
              "50%      0.000000    3.000000    0.000000   28.000000    0.000000    0.000000   \n",
              "75%      1.000000    3.000000    1.000000   38.000000    1.000000    0.000000   \n",
              "max      1.000000    3.000000    1.000000   80.000000    8.000000    6.000000   \n",
              "\n",
              "             Fare    Embarked  \n",
              "count  891.000000  891.000000  \n",
              "mean    32.204208    0.188552  \n",
              "std     49.693429    0.391372  \n",
              "min      0.000000    0.000000  \n",
              "25%      7.910400    0.000000  \n",
              "50%     14.454200    0.000000  \n",
              "75%     31.000000    0.000000  \n",
              "max    512.329200    1.000000  "
            ]
          },
          "metadata": {
            "tags": []
          },
          "execution_count": 119
        }
      ]
    },
    {
      "metadata": {
        "id": "aUUUR4qHPiee",
        "colab_type": "code",
        "outputId": "c6718a64-23a4-46cb-dc14-a5e46940fe61",
        "colab": {
          "base_uri": "https://localhost:8080/",
          "height": 238
        }
      },
      "cell_type": "code",
      "source": [
        "train.info()"
      ],
      "execution_count": 120,
      "outputs": [
        {
          "output_type": "stream",
          "text": [
            "<class 'pandas.core.frame.DataFrame'>\n",
            "RangeIndex: 891 entries, 0 to 890\n",
            "Data columns (total 8 columns):\n",
            "Survived    891 non-null int64\n",
            "Pclass      891 non-null int64\n",
            "Sex         891 non-null uint8\n",
            "Age         714 non-null float64\n",
            "SibSp       891 non-null int64\n",
            "Parch       891 non-null int64\n",
            "Fare        891 non-null float64\n",
            "Embarked    891 non-null uint8\n",
            "dtypes: float64(2), int64(4), uint8(2)\n",
            "memory usage: 43.6 KB\n"
          ],
          "name": "stdout"
        }
      ]
    },
    {
      "metadata": {
        "id": "JgxCzLWvPnen",
        "colab_type": "text"
      },
      "cell_type": "markdown",
      "source": [
        "Looking at the stats, we can learn a few useful things about the data.  For one, since the mean survived variable is 0.38, most of the passengers did not live.  Another thing is that since the mean age was a little over 29 years, we can say that the people on board were somewhat young.  Lastly, since the mean sex was about 0.35, we can also say that the people were majority male. \n",
        "\n",
        "You can get so much more from just these simple reports, but we are going to move on.  If you want, we can try to come up with some more assumptions from the stats youself."
      ]
    },
    {
      "metadata": {
        "id": "dcbroQSzQP0B",
        "colab_type": "text"
      },
      "cell_type": "markdown",
      "source": [
        "Now that we have learned something about the variable, we need to look to see what is missing.  To do this, we are going to use ```df.isnull().any()```."
      ]
    },
    {
      "metadata": {
        "id": "k7Zfzau6Qk4I",
        "colab_type": "code",
        "outputId": "3c4e0555-2704-4dcf-e8af-6529185bba12",
        "colab": {
          "base_uri": "https://localhost:8080/",
          "height": 170
        }
      },
      "cell_type": "code",
      "source": [
        "train.isnull().any()"
      ],
      "execution_count": 121,
      "outputs": [
        {
          "output_type": "execute_result",
          "data": {
            "text/plain": [
              "Survived    False\n",
              "Pclass      False\n",
              "Sex         False\n",
              "Age          True\n",
              "SibSp       False\n",
              "Parch       False\n",
              "Fare        False\n",
              "Embarked    False\n",
              "dtype: bool"
            ]
          },
          "metadata": {
            "tags": []
          },
          "execution_count": 121
        }
      ]
    },
    {
      "metadata": {
        "id": "wM7FLzwxQmnP",
        "colab_type": "text"
      },
      "cell_type": "markdown",
      "source": [
        "Looking at the output, we can say that the only column with any missing values is the age column.  \n",
        "\n",
        "Now before we just start randomly filling and/or removing missing values, we need to do some detective work.  For this part, we are going to use our brain, and attempt to assume the reason that the data is missing.\n",
        "\n",
        "For the most part there is only two reasons that data could go missing, someone didn't record it, or it doesn't exist.  Since the part where data goes missing because it isn't recorded correctly, we are just going to give an example about data that doesn't exist. \n",
        "\n",
        "Imagine that I am interviewing people randomly and asking them their favorite ice cream flavor.  If I ask some people that we alergic to ice cream, then they would of course not have a favorite flavor.  Therefore, there will be missing data for them.  Now, the interviewer could decide to leave those people out, but in many cases, they decide to leave it in provived that not too much of the data is left empty.\n",
        "\n",
        "Now in the case where data doesn't exist, it may be best to just replace data with the most common value, the mean, mode, etc. (provided that not too much of the data is missing).  However, if the data just wasn't recorded, we can just remove it.\n",
        "\n",
        "Now in our example, I find that it is very rare that someone's age doesn't exist.  So, in this example it isn't a good idea to just remove it.  We are instead going to replace it with the mean.  (Plus is you looked, there are too much missing data to simple remove them)."
      ]
    },
    {
      "metadata": {
        "id": "pkm31wayS5ry",
        "colab_type": "code",
        "colab": {}
      },
      "cell_type": "code",
      "source": [
        "train['Age'].fillna(value=train['Age'].mean(), inplace=True)"
      ],
      "execution_count": 0,
      "outputs": []
    },
    {
      "metadata": {
        "id": "MvNq84hUTZ-i",
        "colab_type": "code",
        "outputId": "2d47f25a-d45d-40d1-9f6e-158225dd1fe5",
        "colab": {
          "base_uri": "https://localhost:8080/",
          "height": 170
        }
      },
      "cell_type": "code",
      "source": [
        "#now let's check it see if it worked!\n",
        "train.isnull().any()"
      ],
      "execution_count": 123,
      "outputs": [
        {
          "output_type": "execute_result",
          "data": {
            "text/plain": [
              "Survived    False\n",
              "Pclass      False\n",
              "Sex         False\n",
              "Age         False\n",
              "SibSp       False\n",
              "Parch       False\n",
              "Fare        False\n",
              "Embarked    False\n",
              "dtype: bool"
            ]
          },
          "metadata": {
            "tags": []
          },
          "execution_count": 123
        }
      ]
    },
    {
      "metadata": {
        "id": "9AUdXOL87SJz",
        "colab_type": "code",
        "colab": {
          "base_uri": "https://localhost:8080/",
          "height": 34
        },
        "outputId": "bfe39ca3-1088-401d-fc2b-7b577ba7554a"
      },
      "cell_type": "code",
      "source": [
        "train.drop(['Survived'], axis=1).shape"
      ],
      "execution_count": 124,
      "outputs": [
        {
          "output_type": "execute_result",
          "data": {
            "text/plain": [
              "(891, 7)"
            ]
          },
          "metadata": {
            "tags": []
          },
          "execution_count": 124
        }
      ]
    },
    {
      "metadata": {
        "id": "QSnPADofTf_G",
        "colab_type": "text"
      },
      "cell_type": "markdown",
      "source": [
        "Now if you want to go above and beyond, you can examine the distributions of the data, correlations, and so on.  But for this guide, we are just going to start in with the model design phase."
      ]
    },
    {
      "metadata": {
        "id": "0HNQHaVpTz5w",
        "colab_type": "text"
      },
      "cell_type": "markdown",
      "source": [
        "# Model Design Phase"
      ]
    },
    {
      "metadata": {
        "id": "AwUnHxMLT2fG",
        "colab_type": "text"
      },
      "cell_type": "markdown",
      "source": [
        "Now looking back at our previous guides, we used simply supervised learning models.  However, the highest we ever got on the test set was aout 80% accuracy (this was even with Random Forest).  So, for this guide, we are going to attemp to beat this score using an ANN (artificial neural network) designed by Tensorflow."
      ]
    },
    {
      "metadata": {
        "id": "YvYTtfw-UQ0G",
        "colab_type": "text"
      },
      "cell_type": "markdown",
      "source": [
        "For our model, we are going to use a simple network with 2 hidden layers using RELU (since RELU usually converges faster).  Now before we just start coding, we are just going to lay our the detals of our ANN architecture. \n",
        "\n",
        "To start, we need to know how many nodes to have in our input layer.  This is very easy, since the number of nodes in our input layer is simply just the number of inputs that our data has.  We can get this using ```df.shape```.  \n",
        "\n",
        "Second, we are going to find the second easiest thing to find, the number of nodes in our output layer.  This is simply just the number of unique values in our target column.  For this example, there are only two unique values, either survived or died.  So, we are going to use 2 nodes.\n",
        "\n",
        "Next, we are going to find the number of nodes in our hidden layers.  For this, there isn't really a hardcoded number to set.  When deciding, there are a few rules of thumb.  One, the most nodes per layer, the longer training will take, and the higher the chances of overfitting.  Two, the less the nodes, the more you may underfit, and three, your first hidden layer should have more nodes than your second.  The reason for this, is that it will take longer to train, and you may also have a problem with vanishing or exploding gradients.  \n",
        "\n",
        "So, for this example, we are going to use 300 nodes, and 100 nodes."
      ]
    },
    {
      "metadata": {
        "id": "hCEJnlg9eYUQ",
        "colab_type": "code",
        "outputId": "85e5dffd-4963-4bcb-9f7d-25f43beddaa7",
        "colab": {
          "base_uri": "https://localhost:8080/",
          "height": 34
        }
      },
      "cell_type": "code",
      "source": [
        "#get the input shape\n",
        "train.shape"
      ],
      "execution_count": 125,
      "outputs": [
        {
          "output_type": "execute_result",
          "data": {
            "text/plain": [
              "(891, 8)"
            ]
          },
          "metadata": {
            "tags": []
          },
          "execution_count": 125
        }
      ]
    },
    {
      "metadata": {
        "id": "vgmj56UHez2a",
        "colab_type": "code",
        "colab": {}
      },
      "cell_type": "code",
      "source": [
        "#create vars. to hold input sizes\n",
        "n_inputs = 7\n",
        "n_hidden1 = 300\n",
        "n_hidden2 = 100\n",
        "n_outputs = 2"
      ],
      "execution_count": 0,
      "outputs": []
    },
    {
      "metadata": {
        "id": "XscoDDPde-5p",
        "colab_type": "code",
        "colab": {}
      },
      "cell_type": "code",
      "source": [
        "#now lets create placeholders for our X and y inputs.\n",
        "#we specify None for the first dimension, since we want to be able to input any number of samples.\n",
        "X = tf.placeholder(tf.float32, shape=(None, n_inputs))\n",
        "\n",
        "y = tf.placeholder(tf.int64, shape=(None))"
      ],
      "execution_count": 0,
      "outputs": []
    },
    {
      "metadata": {
        "id": "Cm82S5SRfiO0",
        "colab_type": "text"
      },
      "cell_type": "markdown",
      "source": [
        "Now that we have created placeholders to hold our input varibles, we can go on and create the actual node and layer part of our model.  For this we are going to use ```tf.layers.dense()```.  This function creates a series of interconnected nodes.\n",
        "\n",
        "We are first going to create an input layer, then we are going to create the first hidden layers and specify the outputs as from the input layer as the input.  Then, we are going to create the second hidden layer, and specify the outputs from the first hidden layer as the input.  Lastly, we are going to create the output layer, and specify the outputs from the second hidden layer.  As mentioned before, we are going to set the activation function to RELU, since it converges faster than the sigmoid function.\n",
        "\n",
        "You can read up on how exactly an ANN works [here](https://www.digitaltrends.com/cool-tech/what-is-an-artificial-neural-network/)."
      ]
    },
    {
      "metadata": {
        "id": "FcOWtJdAqVKE",
        "colab_type": "code",
        "colab": {}
      },
      "cell_type": "code",
      "source": [
        "with tf.name_scope(\"nn\"):  #create a name scope to hold all of the ANN nodes and layers.\n",
        "  input_layer = tf.layers.dense(X, n_inputs, tf.nn.relu)\n",
        "  hidden_layer1 = tf.layers.dense(input_layer, n_hidden1, tf.nn.relu)\n",
        "  hidden_layer2 = tf.layers.dense(hidden_layer1, n_hidden2, tf.nn.relu)\n",
        "  output_layer = tf.layers.dense(hidden_layer2, n_outputs, tf.nn.relu)"
      ],
      "execution_count": 0,
      "outputs": []
    },
    {
      "metadata": {
        "id": "MVnc8HG2rR73",
        "colab_type": "text"
      },
      "cell_type": "markdown",
      "source": [
        "Not that we have created our ANN layers, we need to specify a loss function.  If you read the link attached above, you would learn that an ANN works by using backpropagation in order to learn what parameters decrease the loss function the most.  This process is known as training the model.  So, in order to actually train the model, we are going to need to create some sort of loss function.\n",
        "\n",
        "In our case, since we are doing a classification problem, we are going to just use accuracy.  However, there is a catch: since our model will actually output class accuracies (like softmax models), instead of just the class, we will want to use cross_entropy as our loss.  We can use ```tf.nn.softmax_cross_entropy_with_logits_v2()``` to find the cross entropy of our model (```tf.nn.softmax_cross_entropy_with_logits()``` is soon to be depreciated as of this post).  Since this function will then find the cross entropy for each prediction our model makes, we will be left with a big list of losses.  Since our model will only want one loss to try to minimize, we will just take the mean of the errors.  For this we will use ```tf.reduce_mean()```."
      ]
    },
    {
      "metadata": {
        "id": "Pd3lsfV1szWL",
        "colab_type": "code",
        "colab": {}
      },
      "cell_type": "code",
      "source": [
        "with tf.name_scope(\"loss\"):  #create name scope to hold loss operations\n",
        "  cross_entropy = tf.nn.softmax_cross_entropy_with_logits_v2(labels=y, logits=output_layer)\n",
        "  loss = tf.reduce_mean(cross_entropy)"
      ],
      "execution_count": 0,
      "outputs": []
    },
    {
      "metadata": {
        "id": "ZM4yjxb9tEnp",
        "colab_type": "text"
      },
      "cell_type": "markdown",
      "source": [
        "And now that we have created a loss function, we will need a training step to actually try to minimize it.  Thankfully, tensorflow comes with a ton of these operation built in.  For this example, we are just going to use a simple gradient descent operation (use ```tf.train.GradientDescentOptimizer()```).  However, if you want to change things up, you can use other training operations (you can read up on them [here](https://www.tensorflow.org/api_docs/python/tf/train)).\n",
        "\n",
        "After we create an object for the training operation, we the use ```object.minimize(loss)``` to tell it to actually start the training process."
      ]
    },
    {
      "metadata": {
        "id": "MEwbv5e3vLpU",
        "colab_type": "code",
        "colab": {}
      },
      "cell_type": "code",
      "source": [
        "with tf.name_scope(\"train\"):  #create a name scope to hold the training operations\n",
        "  minimizer = tf.train.GradientDescentOptimizer(0.001)  #the parameter here is the learning rate.\n",
        "  train_op = minimizer.minimize(loss)"
      ],
      "execution_count": 0,
      "outputs": []
    },
    {
      "metadata": {
        "id": "1Pg2lTndvcVN",
        "colab_type": "text"
      },
      "cell_type": "markdown",
      "source": [
        "Looks like we are almost done!  Now that we have created a trainable model, we are going to want to create a way to evaluate the performance of the model.  First, we are going to find the correct values that our model predicted using ```tg.nn.in_top_k()```.  Then we are going to find the accuracy by finding the mean of the correct variable."
      ]
    },
    {
      "metadata": {
        "id": "2a3ok3mDwD3H",
        "colab_type": "code",
        "colab": {}
      },
      "cell_type": "code",
      "source": [
        "with tf.name_scope(\"eval\"):\n",
        "  correct = tf.nn.in_top_k(output_layer, y, 1)\n",
        "  accuracy = tf.reduce_mean(tf.cast(correct, tf.float32))"
      ],
      "execution_count": 0,
      "outputs": []
    },
    {
      "metadata": {
        "id": "x77V_NNfxkNn",
        "colab_type": "text"
      },
      "cell_type": "markdown",
      "source": [
        "# Training Phase"
      ]
    },
    {
      "metadata": {
        "id": "WbszRhmXwiZX",
        "colab_type": "text"
      },
      "cell_type": "markdown",
      "source": [
        "At last, we are ready to actually train our model.  For this, we first need to use ```tf.global_variables_initializer()``` to initialize and create all of the variables and placeholders that tensorflow created.  Next, we will need to execute everything in a session using ```tf.Session()```.  A simple ```with``` statement will be ideal.  Lastly, we will train out model by calling a loop a certain number of times, and calling the train_op variable in the loop.  The number of times that we loop through our training operation is called the number of epochs.\n",
        "\n",
        "We will want to create a function to split our data into batches, in order to make our model easier to train.\n",
        "\n",
        "When we call our training operation, we will also need to feed it values to fill the placeholders.  Remember that we need to feed data to our placeholders, or else we will cause an error as we will basically be performing arithmetic on null variables."
      ]
    },
    {
      "metadata": {
        "id": "EMDyjvuR8BoJ",
        "colab_type": "code",
        "colab": {}
      },
      "cell_type": "code",
      "source": [
        "def get_batch(size, index, X, y):\n",
        "  if index == 1:\n",
        "    x_batch, y_batch = X[0:size], y[0:size]\n",
        "  else:\n",
        "    x_batch, y_batch = X[(size * index) - size:(size * index)], y[(size * index) - size:(size * index)]\n",
        "  return x_batch, y_batch"
      ],
      "execution_count": 0,
      "outputs": []
    },
    {
      "metadata": {
        "id": "Wh-Q5bQx5uA_",
        "colab_type": "code",
        "colab": {}
      },
      "cell_type": "code",
      "source": [
        "init = tf.global_variables_initializer()\n",
        "\n",
        "with tf.Session() as sess:\n",
        "  init.run()\n",
        "  \n",
        "  data_x = train.drop(['Survived'], axis=1).values\n",
        "  data_y = train['Survived'].values\n",
        "  \n",
        "  for _ in range(1, 1001):\n",
        "    x_batch, y_batch\n",
        "  \n",
        "  "
      ],
      "execution_count": 0,
      "outputs": []
    }
  ]
}